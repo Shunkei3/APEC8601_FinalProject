{
 "cells": [
  {
   "cell_type": "markdown",
   "metadata": {},
   "source": [
    "*Shunkei Kakimoto*\n",
    "\n",
    "*APEC 8601*"
   ]
  },
  {
   "cell_type": "markdown",
   "metadata": {},
   "source": [
    "## Component 1:\n",
    "\n",
    "(a)\tUse SEALS to generate LULC maps for your country for 2030, 2035 and 2040. Do this for at least two different SSPs.`"
   ]
  },
  {
   "cell_type": "markdown",
   "metadata": {},
   "source": [
    "<font color='red'>**Answer:**</font> \n",
    "\n",
    "See the Github page [here](https://shunkei3.github.io/final_assignment) for the details about how I run each InVEST model."
   ]
  },
  {
   "cell_type": "markdown",
   "metadata": {},
   "source": [
    "(b)\tPlot these maps using QGIS or whatever plotting method you like."
   ]
  },
  {
   "cell_type": "markdown",
   "metadata": {},
   "source": [
    "<font color='red'>**Answer:**</font>"
   ]
  },
  {
   "cell_type": "markdown",
   "metadata": {},
   "source": [
    "## Base\n",
    "<img style=\"float: center;\" src=\"https://shunkei3.github.io/final_assignment/images/1b_out/out_base.png\" width=\"800\" height=\"500\">\n",
    "\n",
    "## SSP1 scenario\n",
    "<img style=\"float: center;\" src=\"https://shunkei3.github.io/final_assignment/images/1b_out/out_ssp1.png\" width=\"1300\" height=\"1000\">\n",
    "\n",
    "## SSP3 scenario\n",
    "<img style=\"float: center;\" src=\"https://shunkei3.github.io/final_assignment/images/1b_out/out_ssp3.png\" width=\"1300\" height=\"1000\">"
   ]
  },
  {
   "cell_type": "markdown",
   "metadata": {},
   "source": [
    "(c) Add a new “policy” layer that prevents/encourages certain types of land-use change in certain areas. For instance, you could modify the calibration parameters file to decrease the likelihood that agricultural expansion happens on steep slopes."
   ]
  },
  {
   "cell_type": "markdown",
   "metadata": {},
   "source": [
    "<font color='red'>**Answer:**</font>"
   ]
  },
  {
   "cell_type": "markdown",
   "metadata": {},
   "source": [
    "## SSP1 scenario\n",
    "<img style=\"float: center;\" src=\"https://shunkei3.github.io/final_assignment/images/1c_out/out_ssp1.png\" width=\"1300\" height=\"1000\">\n",
    "\n",
    "## SSP3 scenario\n",
    "<img style=\"float: center;\" src=\"https://shunkei3.github.io/final_assignment/images/1c_out/out_ssp3.png\" width=\"1300\" height=\"1000\">"
   ]
  },
  {
   "cell_type": "markdown",
   "metadata": {},
   "source": [
    "(d) Write a narrative description of how the different scenarios differ in terms of what classes expand/contract and where.\n",
    "\n",
    "<font color='red'>**Answer:**</font>\n",
    "\n",
    "Looking at the base map, agricultural land is dominated in southern coastal regions. Under SSP1 scenario, which assumes the strong environmental conservation and comprehensive development to enhance people's welfare happen, those coastal agricultural regions are servery shrunk, and natural forest are recovered. \n",
    "\n",
    "The SSP3 scenario assumes a very opposite socioeconomic pathway. Specifically, it assumes that regional competitiveness over resources increases and people's socioeconomic status decreases. Under this scenario, the forest areas decrease, and progressive expansion of cropland can be seen around the urban areas located in the western region of the country. \n",
    "\n",
    "In both scenarios, after modifying the calibration parameter so that cropland expansion is not allowed into the forest, a significant amount of cropland is reduced relative to the results before the modification. This is especially the case for the SSP3 scenario."
   ]
  },
  {
   "cell_type": "markdown",
   "metadata": {},
   "source": [
    "## Component 2:\n",
    "(a)\tUse the maps you generated to assess run ecosystem service assessments for each scenario. Specifically, run:\n",
    "\n",
    "a.\tCarbon Storage\n",
    "\n",
    "b.\tWater Yield\n",
    "\n",
    "c.\tPollination\n",
    "\n",
    "d.\tSediment retention\n",
    "\n",
    "e.\tNutrient retention"
   ]
  },
  {
   "cell_type": "markdown",
   "metadata": {},
   "source": [
    "<font color='red'>**Answer:**</font>\n",
    "\n",
    "Here, I use the SEALS LULC data that I created in part (a) in component 1. Please see the Github page [here](https://shunkei3.github.io/final_assignment) for the details about how I run each InVEST model. Below I show the maps produced by each InVEST model. "
   ]
  },
  {
   "cell_type": "markdown",
   "metadata": {},
   "source": [
    "## a. Carbon Storage\n",
    "\n",
    "### SSP1 scenario\n",
    "<img src=\"https://shunkei3.github.io/final_assignment/images/slv_InVEST_out/cs_ssp1_rcp26.png\" width=\"1000\" height=\"1000\">\n",
    "\n",
    "### SSP3 scenario\n",
    "<img src=\"https://shunkei3.github.io/final_assignment/images/slv_InVEST_out/cs_ssp3_rcp70.png\" width=\"1000\" height=\"1000\">"
   ]
  },
  {
   "cell_type": "markdown",
   "metadata": {},
   "source": [
    "## b. Water Yield\n",
    "\n",
    "### SSP1 scenario\n",
    "<img src=\"https://shunkei3.github.io/final_assignment/images/slv_InVEST_out/wy_ssp1_rcp26.png\" width=\"1000\" height=\"1000\">\n",
    "\n",
    "### SSP3 scenario\n",
    "<img src=\"https://shunkei3.github.io/final_assignment/images/slv_InVEST_out/wy_ssp3_rcp70.png\" width=\"1000\" height=\"1000\">"
   ]
  },
  {
   "cell_type": "markdown",
   "metadata": {},
   "source": [
    "## c. Pollination\n",
    "\n",
    "### SSP1 scenario\n",
    "<img src=\"https://shunkei3.github.io/final_assignment/images/slv_InVEST_out/cp_ssp1_rcp26.png\" width=\"1000\" height=\"1000\">\n",
    "\n",
    "### SSP3 scenario\n",
    "<img src=\"https://shunkei3.github.io/final_assignment/images/slv_InVEST_out/cp_ssp3_rcp70.png\" width=\"1000\" height=\"1000\">"
   ]
  },
  {
   "cell_type": "markdown",
   "metadata": {},
   "source": [
    "## d. Sediment retention\n",
    "\n",
    "### SSP1 scenario\n",
    "<img src=\"https://shunkei3.github.io/final_assignment/images/slv_InVEST_out/sdr_ssp1_rcp26.png\" width=\"800\" height=\"1200\">\n",
    "\n",
    "### SSP3 scenario\n",
    "<img src=\"https://shunkei3.github.io/final_assignment/images/slv_InVEST_out/sdr_ssp3_rcp70.png\" width=\"800\" height=\"1200\">"
   ]
  },
  {
   "cell_type": "markdown",
   "metadata": {},
   "source": [
    "## e. Nutrient retention \n",
    "\n",
    "### SSP1 scenario\n",
    "<img src=\"https://shunkei3.github.io/final_assignment/images/slv_InVEST_out/ndr_ssp1_rcp26.png\" width=\"1000\" height=\"1000\">\n",
    "\n",
    "### SSP3 scenario\n",
    "<img src=\"https://shunkei3.github.io/final_assignment/images/slv_InVEST_out/ndr_ssp3_rcp70.png\" width=\"1000\" height=\"1000\">"
   ]
  },
  {
   "cell_type": "markdown",
   "metadata": {},
   "source": [
    "(c)\tWrite a narrative description of how the different scenarios differ in terms of which ecosystem services see localized increases/decreases"
   ]
  },
  {
   "cell_type": "markdown",
   "metadata": {},
   "source": [
    "<font color='red'>**Answer:**</font>\n",
    "\n",
    "Although large difference in all ecosystem services (carbon storage, water yield, crop pollination, sediment retention, and nutrient retention) can be seen between SSP1 and SSP3 scenarios, there is not much difference across years (The quantity of each ecosystem service looks the same across in the figures, but they are slightly different.) \n",
    "\n",
    "Compared to SSP1 scenario, which value the value of nature, large reduction of ecosystem services can be confirmed especially in the regions where cropland is expanding."
   ]
  },
  {
   "cell_type": "markdown",
   "metadata": {},
   "source": [
    "(d)\tWrite a 1 paragraph executive summary on your results from the perspective of what a policy maker interested in “green economic development” should know about their country’s ecosystem services."
   ]
  },
  {
   "cell_type": "markdown",
   "metadata": {},
   "source": [
    "<font color='red'>**Answer:**</font>\n",
    "\n",
    "In the case of El Salvador,  a significant change in ecosystem services cannot be confirmed during the period 2030-2040 in each SSP scenario. One reason for this is that the time period (10 years) I used in this analysis was too short to see a significant land-use change. This implies that a policymaker should not expect a policy to affect their ecosystem services instantly; rather, it takes a long time to see results. Another reason why I could not see any changes in ecosystem services in El Salvador might be that the assumed policy in this analysis is linked to ecosystem services. Given the distinct socio-economic conditions by country, a policymaker should not expect that a policy that positively impacted ecosystem services in another nation has a similar effect on their country. A deep understanding of their county's unique mechanism of ecosystem services is required to achieve green economic development.\n",
    "\n",
    "Through this project, I was given an overview of how to use the SEALS and InVEST models. Due to the limitation of time, I could not explore the impact on several different policies on ecosystem services. I would like to pursue this further during this summer break."
   ]
  }
 ],
 "metadata": {
  "kernelspec": {
   "display_name": "env2023a",
   "language": "python",
   "name": "python3"
  },
  "language_info": {
   "codemirror_mode": {
    "name": "ipython",
    "version": 3
   },
   "file_extension": ".py",
   "mimetype": "text/x-python",
   "name": "python",
   "nbconvert_exporter": "python",
   "pygments_lexer": "ipython3",
   "version": "3.11.6"
  }
 },
 "nbformat": 4,
 "nbformat_minor": 2
}
